{
  "nbformat": 4,
  "nbformat_minor": 0,
  "metadata": {
    "colab": {
      "name": "training.ipynb",
      "provenance": [],
      "authorship_tag": "ABX9TyMx2i35TRswdQltAtITAzH1",
      "include_colab_link": true
    },
    "kernelspec": {
      "name": "python3",
      "display_name": "Python 3"
    },
    "language_info": {
      "name": "python"
    }
  },
  "cells": [
    {
      "cell_type": "markdown",
      "metadata": {
        "id": "view-in-github",
        "colab_type": "text"
      },
      "source": [
        "<a href=\"https://colab.research.google.com/github/giutassarotti/IAesame/blob/main/training.ipynb\" target=\"_parent\"><img src=\"https://colab.research.google.com/assets/colab-badge.svg\" alt=\"Open In Colab\"/></a>"
      ]
    },
    {
      "cell_type": "code",
      "metadata": {
        "id": "lKHD7OMRte64"
      },
      "source": [
        "!pip install -r requirements.txt"
      ],
      "execution_count": null,
      "outputs": []
    },
    {
      "cell_type": "markdown",
      "metadata": {
        "id": "vgnirP7MuB-C"
      },
      "source": [
        "#**Caricamento del dataframe**#"
      ]
    },
    {
      "cell_type": "code",
      "metadata": {
        "id": "FNxwdbXeuJk3"
      },
      "source": [
        "import pandas\n",
        "import numpy\n",
        "\n",
        "numpy.set_printoptions(precision=3, suppress=True)\n",
        "\n",
        "def io_load_multiple_csv(csv_path_list):\n",
        "  dataframe_list = []\n",
        "  for elem in csv_path_list:\n",
        "    dataframe_list.append(io_load_csv(elem))\n",
        "  return dataframe_list\n",
        "\n",
        "def io_load_csv(csv_path):\n",
        "  return pandas.read_csv(csv_path)"
      ],
      "execution_count": 41,
      "outputs": []
    },
    {
      "cell_type": "code",
      "metadata": {
        "id": "hHA1u9m9uSOo"
      },
      "source": [
        "dataframe_train_path = \"train.csv\"\n",
        "dataframe_test_path = \"test.csv\"\n",
        "\n",
        "dataframe_train, dataframe_test = io_load_multiple_csv([dataframe_train_path, dataframe_test_path])"
      ],
      "execution_count": 68,
      "outputs": []
    },
    {
      "cell_type": "markdown",
      "metadata": {
        "id": "GE6oX8rNuUvy"
      },
      "source": [
        "Stampa delle prime righe:"
      ]
    },
    {
      "cell_type": "code",
      "metadata": {
        "colab": {
          "base_uri": "https://localhost:8080/",
          "height": 204
        },
        "id": "XzT9M2ApuaRO",
        "outputId": "13229b03-e552-4646-f924-b43beac6a91d"
      },
      "source": [
        "dataframe_train.head()"
      ],
      "execution_count": 58,
      "outputs": [
        {
          "output_type": "execute_result",
          "data": {
            "text/html": [
              "<div>\n",
              "<style scoped>\n",
              "    .dataframe tbody tr th:only-of-type {\n",
              "        vertical-align: middle;\n",
              "    }\n",
              "\n",
              "    .dataframe tbody tr th {\n",
              "        vertical-align: top;\n",
              "    }\n",
              "\n",
              "    .dataframe thead th {\n",
              "        text-align: right;\n",
              "    }\n",
              "</style>\n",
              "<table border=\"1\" class=\"dataframe\">\n",
              "  <thead>\n",
              "    <tr style=\"text-align: right;\">\n",
              "      <th></th>\n",
              "      <th>Exited</th>\n",
              "      <th>RowNumber</th>\n",
              "      <th>CustomerId</th>\n",
              "      <th>Surname</th>\n",
              "      <th>CreditScore</th>\n",
              "      <th>Geography</th>\n",
              "      <th>Gender</th>\n",
              "      <th>Age</th>\n",
              "      <th>Tenure</th>\n",
              "      <th>Balance</th>\n",
              "      <th>NumOfProducts</th>\n",
              "      <th>HasCrCard</th>\n",
              "      <th>IsActiveMember</th>\n",
              "      <th>EstimatedSalary</th>\n",
              "    </tr>\n",
              "  </thead>\n",
              "  <tbody>\n",
              "    <tr>\n",
              "      <th>0</th>\n",
              "      <td>0</td>\n",
              "      <td>6948</td>\n",
              "      <td>15809558</td>\n",
              "      <td>Peppin</td>\n",
              "      <td>715</td>\n",
              "      <td>Spain</td>\n",
              "      <td>Male</td>\n",
              "      <td>31</td>\n",
              "      <td>7</td>\n",
              "      <td>0.00</td>\n",
              "      <td>1</td>\n",
              "      <td>1</td>\n",
              "      <td>1</td>\n",
              "      <td>149970.59</td>\n",
              "    </tr>\n",
              "    <tr>\n",
              "      <th>1</th>\n",
              "      <td>1</td>\n",
              "      <td>1306</td>\n",
              "      <td>15800434</td>\n",
              "      <td>Burgess</td>\n",
              "      <td>811</td>\n",
              "      <td>Germany</td>\n",
              "      <td>Male</td>\n",
              "      <td>52</td>\n",
              "      <td>10</td>\n",
              "      <td>76915.40</td>\n",
              "      <td>1</td>\n",
              "      <td>0</td>\n",
              "      <td>0</td>\n",
              "      <td>146359.81</td>\n",
              "    </tr>\n",
              "    <tr>\n",
              "      <th>2</th>\n",
              "      <td>0</td>\n",
              "      <td>49</td>\n",
              "      <td>15766205</td>\n",
              "      <td>Yin</td>\n",
              "      <td>550</td>\n",
              "      <td>Germany</td>\n",
              "      <td>Male</td>\n",
              "      <td>38</td>\n",
              "      <td>2</td>\n",
              "      <td>103391.38</td>\n",
              "      <td>1</td>\n",
              "      <td>0</td>\n",
              "      <td>1</td>\n",
              "      <td>90878.13</td>\n",
              "    </tr>\n",
              "    <tr>\n",
              "      <th>3</th>\n",
              "      <td>0</td>\n",
              "      <td>8634</td>\n",
              "      <td>15801414</td>\n",
              "      <td>Bitter</td>\n",
              "      <td>767</td>\n",
              "      <td>France</td>\n",
              "      <td>Female</td>\n",
              "      <td>35</td>\n",
              "      <td>2</td>\n",
              "      <td>0.00</td>\n",
              "      <td>2</td>\n",
              "      <td>0</td>\n",
              "      <td>0</td>\n",
              "      <td>144251.38</td>\n",
              "    </tr>\n",
              "    <tr>\n",
              "      <th>4</th>\n",
              "      <td>0</td>\n",
              "      <td>8407</td>\n",
              "      <td>15578747</td>\n",
              "      <td>Chineze</td>\n",
              "      <td>701</td>\n",
              "      <td>Spain</td>\n",
              "      <td>Male</td>\n",
              "      <td>26</td>\n",
              "      <td>5</td>\n",
              "      <td>83600.24</td>\n",
              "      <td>1</td>\n",
              "      <td>0</td>\n",
              "      <td>1</td>\n",
              "      <td>59195.05</td>\n",
              "    </tr>\n",
              "  </tbody>\n",
              "</table>\n",
              "</div>"
            ],
            "text/plain": [
              "   Exited  RowNumber  CustomerId  ... HasCrCard  IsActiveMember EstimatedSalary\n",
              "0       0       6948    15809558  ...         1               1       149970.59\n",
              "1       1       1306    15800434  ...         0               0       146359.81\n",
              "2       0         49    15766205  ...         0               1        90878.13\n",
              "3       0       8634    15801414  ...         0               0       144251.38\n",
              "4       0       8407    15578747  ...         0               1        59195.05\n",
              "\n",
              "[5 rows x 14 columns]"
            ]
          },
          "metadata": {
            "tags": []
          },
          "execution_count": 58
        }
      ]
    },
    {
      "cell_type": "markdown",
      "metadata": {
        "id": "isH4WyZAvteT"
      },
      "source": [
        "# **Analisi del dataset**\n",
        "**Filtraggio dei valori nulli**\n",
        "\n",
        "Grazie alla stampa dell'analisi delle colonne, fatta ad inizio esecuzione, è stato scoperto che nessuna colonna presenta righe con valori nulli o sbagliati.  "
      ]
    },
    {
      "cell_type": "markdown",
      "metadata": {
        "id": "hy6IygiVv2Nj"
      },
      "source": [
        "## **Analisi del dataframe**\n",
        "Definiamo ora le funzioni utili ad analizzare il dataframe fornito."
      ]
    },
    {
      "cell_type": "code",
      "metadata": {
        "id": "Pvr4SOzsv5Xw"
      },
      "source": [
        "def print_infos(dataframe):\n",
        "  print(\"Informazioni del Dataframe:\\n\")\n",
        "  print(\"Righe     : {}\".format(dataframe.shape[0]) )\n",
        "  print(\"Colonne  : {}\".format(dataframe.shape[1]))\n",
        "  print(\"\\nFeatures :\\n{}\".format(dataframe.columns.tolist()))\n",
        "  print(\"\\nValori Unici :\\n{}\".format(dataframe.nunique()))\n",
        "\n",
        "  print(\"\\nInformazioni del Dataframe:\")\n",
        "  dataframe.info()"
      ],
      "execution_count": 69,
      "outputs": []
    },
    {
      "cell_type": "code",
      "metadata": {
        "id": "MJXOCwf6wqmc"
      },
      "source": [
        "import matplotlib.pyplot as pyplot\n",
        "import seaborn\n",
        "\n",
        "def is_categorical(elem):\n",
        "  return type(elem) is str\n",
        "\n",
        "def is_numeric(elem):\n",
        "  return not is_categorical(elem)\n",
        "\n",
        "def get_numeric_features(dataframe):\n",
        "  numeric_features = []\n",
        "  for elem in dataframe:\n",
        "    if is_numeric(dataframe[elem][0]):\n",
        "      numeric_features.append(elem)\n",
        "  return numeric_features\n",
        "\n",
        "def get_categorical_features(dataframe):\n",
        "  categorical_features = []\n",
        "  for elem in dataframe:\n",
        "    if is_categorical(dataframe[elem][0]):\n",
        "      categorical_features.append(elem)\n",
        "  return categorical_features\n",
        "\n",
        "def print_feature_plots(dataframe, feature_target):\n",
        "  categorical_features = get_categorical_features(dataframe)\n",
        "  numeric_features = get_numeric_features(dataframe)\n",
        "  for elem in dataframe:\n",
        "    if elem == feature_target:\n",
        "      continue\n",
        "    if elem in categorical_features:\n",
        "      #Categorical\n",
        "      plot = seaborn.catplot(x = feature_target, \n",
        "                        col = elem, \n",
        "                        data = dataframe, \n",
        "                        kind = 'count')\n",
        "    elif elem in numeric_features:\n",
        "      #Numeric\n",
        "      plot = seaborn.displot(data = dataframe,\n",
        "                        x = elem,\n",
        "                        hue = feature_target) \n",
        "  \n",
        "    pyplot.show()"
      ],
      "execution_count": 70,
      "outputs": []
    },
    {
      "cell_type": "markdown",
      "metadata": {
        "id": "hy2x3f3Yw48b"
      },
      "source": [
        "# **Modello**\n",
        "Vengono sfruttate le possiilità offerte da una pipeline di sklearn per creare ed utilizzare il modello.\n",
        "\n",
        "Come classificatore viene utilizzato l'algoritmo di Random Forest, che è un algoritmo di tipo Ensemble, e quindi sfrutta la combinazione di altri algoritmi più deboli ma opportunamente organizzati ed utilizzati per ottenere dei risultati soddisfacenti. In questo caso abbiamo una combinazione di classificatori di tipo Decision tree."
      ]
    },
    {
      "cell_type": "code",
      "metadata": {
        "id": "4kCmvT9Gw-re"
      },
      "source": [
        "from sklearn.pipeline import Pipeline\n",
        "from sklearn.impute import SimpleImputer\n",
        "from sklearn.compose import ColumnTransformer\n",
        "from sklearn.preprocessing import StandardScaler, OneHotEncoder\n",
        "from sklearn.ensemble import RandomForestClassifier\n",
        "from sklearn.model_selection import GridSearchCV\n",
        "from sklearn.metrics import accuracy_score, balanced_accuracy_score, f1_score, classification_report, plot_confusion_matrix\n",
        "from sklearn.preprocessing import LabelEncoder\n",
        "\n",
        "def create_preprocessor(dataframe):\n",
        "  numeric_features = get_numeric_features(dataframe)\n",
        "  numeric_transformer = Pipeline(\n",
        "      steps = [('imputer', SimpleImputer(strategy='median')),\n",
        "               ('scaler', StandardScaler())])\n",
        "\n",
        "  categorical_features = get_categorical_features(dataframe)\n",
        "  categorical_transformer = Pipeline(\n",
        "      steps=[('imputer', SimpleImputer(strategy='most_frequent')),\n",
        "             ('onehot', OneHotEncoder(handle_unknown='ignore'))])\n",
        "\n",
        "  return ColumnTransformer(\n",
        "      transformers=[('num', numeric_transformer, numeric_features),\n",
        "                    ('cat', categorical_transformer, categorical_features)])\n",
        "\n",
        "def create_model(dataframe):\n",
        "  preprocessor = create_preprocessor(dataframe)\n",
        "\n",
        "  return Pipeline(\n",
        "      steps = [('preprocessor', preprocessor),\n",
        "               ('classifier', RandomForestClassifier())])\n",
        "  \n",
        "def train_model(model, dataframe_train, dataframe_train_target):\n",
        "  model.fit(dataframe_train, dataframe_train_target)\n",
        "  print('Training score: {}'.format(model.score(dataframe_train, dataframe_train_target)))\n",
        "  return model\n",
        "\n",
        "def print_test_model(model, dataframe_test, dataframe_test_target):\n",
        "  preds = model.predict(dataframe_test)\n",
        "  print('Test score: {}'.format(model.score(dataframe_test, dataframe_test_target)))\n",
        "  print(classification_report(dataframe_test_target, preds))"
      ],
      "execution_count": 71,
      "outputs": []
    },
    {
      "cell_type": "markdown",
      "metadata": {
        "id": "lBTmOHDFxCXs"
      },
      "source": [
        "#**Esecuzione**#\n",
        "**Stampa delle informazioni**"
      ]
    },
    {
      "cell_type": "code",
      "metadata": {
        "colab": {
          "base_uri": "https://localhost:8080/"
        },
        "id": "Ect9NjrKxi71",
        "outputId": "2481adca-8ba4-49a7-c72f-7a7a520f41fb"
      },
      "source": [
        "print_infos(dataframe_train)"
      ],
      "execution_count": 72,
      "outputs": [
        {
          "output_type": "stream",
          "text": [
            "Informazioni del Dataframe:\n",
            "\n",
            "Righe     : 6400\n",
            "Colonne  : 14\n",
            "\n",
            "Features :\n",
            "['Exited', 'RowNumber', 'CustomerId', 'Surname', 'CreditScore', 'Geography', 'Gender', 'Age', 'Tenure', 'Balance', 'NumOfProducts', 'HasCrCard', 'IsActiveMember', 'EstimatedSalary']\n",
            "\n",
            "Valori Unici :\n",
            "Exited                2\n",
            "RowNumber          6400\n",
            "CustomerId         6400\n",
            "Surname            2339\n",
            "CreditScore         446\n",
            "Geography             3\n",
            "Gender                2\n",
            "Age                  67\n",
            "Tenure               11\n",
            "Balance            4107\n",
            "NumOfProducts         4\n",
            "HasCrCard             2\n",
            "IsActiveMember        2\n",
            "EstimatedSalary    6399\n",
            "dtype: int64\n",
            "\n",
            "Informazioni del Dataframe:\n",
            "<class 'pandas.core.frame.DataFrame'>\n",
            "RangeIndex: 6400 entries, 0 to 6399\n",
            "Data columns (total 14 columns):\n",
            " #   Column           Non-Null Count  Dtype  \n",
            "---  ------           --------------  -----  \n",
            " 0   Exited           6400 non-null   int64  \n",
            " 1   RowNumber        6400 non-null   int64  \n",
            " 2   CustomerId       6400 non-null   int64  \n",
            " 3   Surname          6400 non-null   object \n",
            " 4   CreditScore      6400 non-null   int64  \n",
            " 5   Geography        6400 non-null   object \n",
            " 6   Gender           6400 non-null   object \n",
            " 7   Age              6400 non-null   int64  \n",
            " 8   Tenure           6400 non-null   int64  \n",
            " 9   Balance          6400 non-null   float64\n",
            " 10  NumOfProducts    6400 non-null   int64  \n",
            " 11  HasCrCard        6400 non-null   int64  \n",
            " 12  IsActiveMember   6400 non-null   int64  \n",
            " 13  EstimatedSalary  6400 non-null   float64\n",
            "dtypes: float64(2), int64(9), object(3)\n",
            "memory usage: 700.1+ KB\n"
          ],
          "name": "stdout"
        }
      ]
    },
    {
      "cell_type": "markdown",
      "metadata": {
        "id": "tLpfBpOXPCOk"
      },
      "source": [
        "**Stampa dei grafici**\n",
        "\n",
        "Si tratta di grafici che prendono come ascissa sempre la feature \"Exited\", ossia mettono a confronto ogni altra feature con la feature che ci interessa prevedere.\n",
        "\n",
        "Nota: Vengono escluse le colonne \"CustomerId\" e \"RowNumber\" in quanto gli ID ed il numero di riga sono numeri casuali per identificare le persone, non hanno informazioni.\n",
        "Stesso processo per \"Surname\" in quanto il cognome non influenza nulla."
      ]
    },
    {
      "cell_type": "code",
      "metadata": {
        "colab": {
          "base_uri": "https://localhost:8080/",
          "height": 1000
        },
        "id": "-8HDYqJhPA9O",
        "outputId": "6c10ec29-93e1-4099-be0a-2ba93b3f790d"
      },
      "source": [
        "feature_target = \"Exited\"\n",
        "dataframe_train.pop(\"CustomerId\")\n",
        "dataframe_train.pop(\"Surname\")\n",
        "dataframe_train.pop(\"RowNumber\")\n",
        "print_feature_plots(dataframe_train, feature_target)"
      ],
      "execution_count": 73,
      "outputs": [
        {
          "output_type": "display_data",
          "data": {
            "image/png": "[encoded data removed]",
            "text/plain": [
              "<Figure size 402.375x360 with 1 Axes>"
            ]
          },
          "metadata": {
            "tags": [],
            "needs_background": "light"
          }
        },
        {
          "output_type": "display_data",
          "data": {
            "image/png": "[encoded data removed]",
            "text/plain": [
              "<Figure size 1080x360 with 3 Axes>"
            ]
          },
          "metadata": {
            "tags": [],
            "needs_background": "light"
          }
        },
        {
          "output_type": "display_data",
          "data": {
            "image/png": "[encoded data removed]",
            "text/plain": [
              "<Figure size 720x360 with 2 Axes>"
            ]
          },
          "metadata": {
            "tags": [],
            "needs_background": "light"
          }
        },
        {
          "output_type": "display_data",
          "data": {
            "image/png": "[encoded data removed]",
            "text/plain": [
              "<Figure size 402.375x360 with 1 Axes>"
            ]
          },
          "metadata": {
            "tags": [],
            "needs_background": "light"
          }
        },
        {
          "output_type": "display_data",
          "data": {
            "image/png": "[encoded data removed]",
            "text/plain": [
              "<Figure size 402.375x360 with 1 Axes>"
            ]
          },
          "metadata": {
            "tags": [],
            "needs_background": "light"
          }
        },
        {
          "output_type": "display_data",
          "data": {
            "image/png": "[encoded data removed]",
            "text/plain": [
              "<Figure size 402.375x360 with 1 Axes>"
            ]
          },
          "metadata": {
            "tags": [],
            "needs_background": "light"
          }
        },
        {
          "output_type": "display_data",
          "data": {
            "image/png": "[encoded data removed]",
            "text/plain": [
              "<Figure size 402.375x360 with 1 Axes>"
            ]
          },
          "metadata": {
            "tags": [],
            "needs_background": "light"
          }
        },
        {
          "output_type": "display_data",
          "data": {
            "image/png": "[encoded data removed]",
            "text/plain": [
              "<Figure size 402.375x360 with 1 Axes>"
            ]
          },
          "metadata": {
            "tags": [],
            "needs_background": "light"
          }
        },
        {
          "output_type": "display_data",
          "data": {
            "image/png": "[encoded data removed]",
            "text/plain": [
              "<Figure size 402.375x360 with 1 Axes>"
            ]
          },
          "metadata": {
            "tags": [],
            "needs_background": "light"
          }
        },
        {
          "output_type": "display_data",
          "data": {
            "image/png": "[encoded data removed]",
            "text/plain": [
              "<Figure size 402.375x360 with 1 Axes>"
            ]
          },
          "metadata": {
            "tags": [],
            "needs_background": "light"
          }
        }
      ]
    },
    {
      "cell_type": "markdown",
      "metadata": {
        "id": "Zq5qSldxVTub"
      },
      "source": [
        "##**Preparazione della feature target**##"
      ]
    },
    {
      "cell_type": "code",
      "metadata": {
        "id": "YHU4buHwVgRH"
      },
      "source": [
        "le = LabelEncoder()\n",
        "\n",
        "dataframe_train_target = le.fit_transform(dataframe_train.pop(feature_target))\n",
        "dataframe_test_target = le.transform(dataframe_test.pop(feature_target))"
      ],
      "execution_count": 74,
      "outputs": []
    },
    {
      "cell_type": "markdown",
      "metadata": {
        "id": "wzR-eMxYWUZ9"
      },
      "source": [
        "#**Classificatore**#"
      ]
    },
    {
      "cell_type": "code",
      "metadata": {
        "id": "IerXI74YWf4A"
      },
      "source": [
        "#Colonne da cancellare?"
      ],
      "execution_count": null,
      "outputs": []
    },
    {
      "cell_type": "code",
      "metadata": {
        "colab": {
          "base_uri": "https://localhost:8080/"
        },
        "id": "D1kv3OJKWiTn",
        "outputId": "162aabd0-c5d1-416e-edbb-cdfcbfe7dbc7"
      },
      "source": [
        "dataframe_train = dataframe_train.drop_duplicates()\n",
        "\n",
        "classifier = create_model(dataframe_train)\n",
        "\n",
        "classifier = train_model(classifier, dataframe_train, dataframe_train_target)\n",
        "\n",
        "print_test_model(classifier, dataframe_test, dataframe_test_target)"
      ],
      "execution_count": 75,
      "outputs": [
        {
          "output_type": "stream",
          "text": [
            "Training score: 0.99984375\n",
            "Test score: 0.851875\n",
            "              precision    recall  f1-score   support\n",
            "\n",
            "           0       0.86      0.96      0.91      1255\n",
            "           1       0.77      0.45      0.57       345\n",
            "\n",
            "    accuracy                           0.85      1600\n",
            "   macro avg       0.82      0.71      0.74      1600\n",
            "weighted avg       0.84      0.85      0.84      1600\n",
            "\n"
          ],
          "name": "stdout"
        },
        {
          "output_type": "stream",
          "text": [
            "/usr/local/lib/python3.7/dist-packages/sklearn/compose/_column_transformer.py:430: FutureWarning: Given feature/column names or counts do not match the ones for the data given during fit. This will fail from v0.24.\n",
            "  FutureWarning)\n",
            "/usr/local/lib/python3.7/dist-packages/sklearn/compose/_column_transformer.py:430: FutureWarning: Given feature/column names or counts do not match the ones for the data given during fit. This will fail from v0.24.\n",
            "  FutureWarning)\n"
          ],
          "name": "stderr"
        }
      ]
    }
  ]
}