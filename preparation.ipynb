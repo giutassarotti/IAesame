{
  "nbformat": 4,
  "nbformat_minor": 0,
  "metadata": {
    "colab": {
      "name": "Untitled0.ipynb",
      "provenance": [],
      "authorship_tag": "ABX9TyMT00G3Ieu38kwotckRPDva",
      "include_colab_link": true
    },
    "kernelspec": {
      "name": "python3",
      "display_name": "Python 3"
    },
    "language_info": {
      "name": "python"
    }
  },
  "cells": [
    {
      "cell_type": "markdown",
      "metadata": {
        "id": "view-in-github",
        "colab_type": "text"
      },
      "source": [
        "<a href=\"https://colab.research.google.com/github/giutassarotti/IAesame/blob/main/preparation.ipynb\" target=\"_parent\"><img src=\"https://colab.research.google.com/assets/colab-badge.svg\" alt=\"Open In Colab\"/></a>"
      ]
    },
    {
      "cell_type": "code",
      "metadata": {
        "id": "5cDcEj0VjMiN"
      },
      "source": [
        "!pip install -r requirements.txt"
      ],
      "execution_count": null,
      "outputs": []
    },
    {
      "cell_type": "markdown",
      "metadata": {
        "id": "S9M_wnVNllBY"
      },
      "source": [
        "# **Librerie**"
      ]
    },
    {
      "cell_type": "code",
      "metadata": {
        "id": "W71Z3IamlpJU"
      },
      "source": [
        "import pandas\n",
        "from sklearn.model_selection import train_test_split"
      ],
      "execution_count": 3,
      "outputs": []
    },
    {
      "cell_type": "markdown",
      "metadata": {
        "id": "JSAEXepimmvu"
      },
      "source": [
        "##**Funzioni**##\n",
        "\n",
        "Il dataset viene diviso in 80% training e 20% test come convenzione."
      ]
    },
    {
      "cell_type": "code",
      "metadata": {
        "id": "NbdGr_mpm1R7"
      },
      "source": [
        "def io_load_csv(csv_path):\n",
        "  return pandas.read_csv(csv_path)\n",
        "\n",
        "def split_train_test(dataframe):\n",
        "  train, test = train_test_split(dataframe, test_size=0.2)\n",
        "  train.name, test.name = 'train', 'test'\n",
        "  return train, test\n",
        "\n",
        "def io_save_dataframe_to_file(dataframe):\n",
        "  dataframe.to_csv(dataframe.name + \".csv\", index=False)\n",
        "\n",
        "def io_save_multiple_dataframes_to_file(dataframe_list):\n",
        "  list(map(io_save_dataframe_to_file, dataframe_list))"
      ],
      "execution_count": null,
      "outputs": []
    },
    {
      "cell_type": "markdown",
      "metadata": {
        "id": "qEO2tHA6nXD6"
      },
      "source": [
        "##**Caricamento csv**##"
      ]
    },
    {
      "cell_type": "code",
      "metadata": {
        "id": "WVLQ2ZILnc76"
      },
      "source": [
        "csv_path = \"./Churn_Modelling.partial.csv\""
      ],
      "execution_count": 4,
      "outputs": []
    },
    {
      "cell_type": "markdown",
      "metadata": {
        "id": "zemgm8Zxnru0"
      },
      "source": [
        "##**Esecuzione**##"
      ]
    },
    {
      "cell_type": "code",
      "metadata": {
        "id": "ycH8xdXEn_Ln"
      },
      "source": [
        "dataframe = io_load_csv(csv_path)\n",
        "\n",
        "dataframe_list = split_train_test(dataframe)\n",
        "io_save_multiple_dataframes_to_file(dataframe_list)"
      ],
      "execution_count": null,
      "outputs": []
    }
  ]
}